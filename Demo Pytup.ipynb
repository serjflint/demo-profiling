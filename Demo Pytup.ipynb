{
 "cells": [
  {
   "cell_type": "markdown",
   "id": "e8072317-916a-46d6-bff9-9a9a75d5f1aa",
   "metadata": {},
   "source": [
    "Создать платежный аккаунт\n",
    "- https://billing.yandex.cloud/accounts"
   ]
  },
  {
   "cell_type": "markdown",
   "id": "fca21824-7320-4419-9386-648a589e1bcb",
   "metadata": {},
   "source": [
    "Создать виртуальную машину\n",
    "- https://console.cloud.yandex.ru/\n",
    "- https://yandex.cloud/ru/docs/tutorials/web/flask"
   ]
  },
  {
   "cell_type": "markdown",
   "id": "0a9ddf25-3f4f-41e3-b8c7-405a03dc15a3",
   "metadata": {},
   "source": [
    "Подключаемся\n",
    "\n",
    "```bash\n",
    "ssh developer@158.160.83.117 -i ~/.ssh/id_demo_profiling\n",
    "sudo apt-get update\n",
    "sudo apt-get upgrade\n",
    "mkdir workspace\n",
    "cd workspace\n",
    "```"
   ]
  },
  {
   "cell_type": "markdown",
   "id": "96b84de8-8f71-4969-96bf-81e28cf54a4d",
   "metadata": {},
   "source": [
    "Нанимаем ржавого продакта\n",
    "\n",
    "- https://github.com/astral-sh/rye\n",
    "\n",
    "```bash\n",
    "curl -sSf https://rye.astral.sh/get | bash\n",
    "source \"$HOME/.rye/env\"\n",
    "rye init demo-profiling\n",
    "cd demo-profiling\n",
    "cat .python-version\n",
    "rye sync\n",
    "python -c \"import sys; print(sys.prefix)\"\n",
    "source .venv/bin/activate\n",
    "```"
   ]
  },
  {
   "cell_type": "markdown",
   "id": "7b31b032-ae1d-4292-a21c-fefc4919a074",
   "metadata": {},
   "source": [
    "Открываем этот ноутбук в отдельной консоли\n",
    "\n",
    "- https://github.com/jupyter/notebook\n",
    "\n",
    "```bash\n",
    "rye add notebook\n",
    "ssh -L 8888:localhost:8888 developer@158.160.83.117 -i ~/.ssh/id_demo_profiling\n",
    "cd workspace/demo-profiling/\n",
    "source .venv/bin/activate\n",
    "jupyter notebook\n",
    "```"
   ]
  },
  {
   "cell_type": "markdown",
   "id": "b0a11005-f650-4a30-bae5-19068bc6c68c",
   "metadata": {},
   "source": [
    "Заводим DTO-шный фреймворк\n",
    "\n",
    "- https://github.com/litestar-org/litestar\n",
    "\n",
    "```bash\n",
    "rye add litestar[full]\n",
    "nano app.py\n",
    "uvicorn app:app --reload --host 0.0.0.0 --port 5000\n",
    "```\n",
    "\n",
    "- http://158.160.83.117:5000\n",
    "- http://158.160.83.117:5000/books/1"
   ]
  },
  {
   "cell_type": "markdown",
   "id": "6292936a-a528-491f-976a-b02ef4d3b4ed",
   "metadata": {},
   "source": [
    "Поднимаем агента Смита\n",
    "\n",
    "- https://yandex.cloud/ru/docs/load-testing/quickstart\n",
    "- https://www.youtube.com/watch?v=G24b3dQeqns&list=PL1x4ET76A10awz4_9jQZEuD9fVacwlAb2\n",
    "- https://yandextank.readthedocs.io/en/latest/ammo_generators.html"
   ]
  },
  {
   "cell_type": "markdown",
   "id": "645bb22a-0e83-41a3-ab56-cbe23b6b93e5",
   "metadata": {},
   "source": [
    "Собираем ржавого\n",
    "\n",
    "```bash\n",
    "git clone https://github.com/benfred/py-spy.git\n",
    "cd py-spy\n",
    "export ID=642\n",
    "export BRANCHNAME=python_3_12\n",
    "git fetch origin pull/$ID/head:$BRANCHNAME\n",
    "git checkout $BRANCHNAME\n",
    "git status\n",
    "curl https://sh.rustup.rs -sSf | sh\n",
    "source \"$HOME/.cargo/env.fish\"\n",
    "cargo build --release\n",
    "cd target/release/\n",
    "```\n",
    "\n",
    "- https://disk.yandex.ru/d/YAm7WsN7q8BVbw"
   ]
  },
  {
   "cell_type": "markdown",
   "id": "15d52589-1997-4060-884e-68ac144c6d4f",
   "metadata": {},
   "source": [
    "Подключаем ржавого шпиона\n",
    "\n",
    "- https://github.com/benfred/py-spy\n",
    "\n",
    "```bash\n",
    "htop\n",
    "export PID=16479\n",
    "sudo ./py-spy top --pid $PID\n",
    "sudo ./py-spy record --format speedscope --rate 15 -s -n --duration 120 --pid $PID\n",
    "```"
   ]
  },
  {
   "cell_type": "markdown",
   "id": "6039a08c-84e8-42c0-9d11-468de5c11468",
   "metadata": {},
   "source": [
    "Смотрим профиль\n",
    "\n",
    "```bash\n",
    "nano ~/.ssh/config\n",
    "export FILE=16479-2024-05-31T14:59:38Z.json\n",
    "export DIR=/home/developer/workspace/demo-profiling\n",
    "scp demo-profiling:$DIR/$FILE ~/Downloads/$FILE\n",
    "```\n",
    "\n",
    "- https://www.speedscope.app"
   ]
  },
  {
   "cell_type": "markdown",
   "id": "78a76600-4b3c-47e3-82c3-1096e0ad2f77",
   "metadata": {},
   "source": [
    "Тестим варианты\n",
    "\n",
    "```bash\n",
    "rye add python-dateutil\n",
    "```"
   ]
  },
  {
   "cell_type": "markdown",
   "id": "07b51cd5-b16e-4baa-a419-a730f9dd0600",
   "metadata": {},
   "source": [
    "Течёт память\n",
    "\n",
    "- https://github.com/bloomberg/memray\n",
    "\n",
    "```bash\n",
    "rye add memray\n",
    "memray run --live app.py\n",
    "```"
   ]
  }
 ],
 "metadata": {
  "kernelspec": {
   "display_name": "Python 3 (ipykernel)",
   "language": "python",
   "name": "python3"
  },
  "language_info": {
   "codemirror_mode": {
    "name": "ipython",
    "version": 3
   },
   "file_extension": ".py",
   "mimetype": "text/x-python",
   "name": "python",
   "nbconvert_exporter": "python",
   "pygments_lexer": "ipython3",
   "version": "3.12.3"
  }
 },
 "nbformat": 4,
 "nbformat_minor": 5
}
